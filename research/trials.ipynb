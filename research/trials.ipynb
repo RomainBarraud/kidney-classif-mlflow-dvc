{
 "cells": [
  {
   "cell_type": "code",
   "execution_count": 1,
   "metadata": {},
   "outputs": [],
   "source": [
    "# ConfigBox\n",
    "d = {\"key\": \"val\", \"key1\": \"val1\"}"
   ]
  },
  {
   "cell_type": "code",
   "execution_count": 2,
   "metadata": {},
   "outputs": [
    {
     "data": {
      "text/plain": [
       "'val'"
      ]
     },
     "execution_count": 2,
     "metadata": {},
     "output_type": "execute_result"
    }
   ],
   "source": [
    "d[\"key\"]"
   ]
  },
  {
   "cell_type": "code",
   "execution_count": 16,
   "metadata": {},
   "outputs": [],
   "source": [
    "from box import ConfigBox, Box"
   ]
  },
  {
   "cell_type": "code",
   "execution_count": 4,
   "metadata": {},
   "outputs": [],
   "source": [
    "d2 = ConfigBox({\"key\": \"val\", \"key1\": \"val1\"})"
   ]
  },
  {
   "cell_type": "code",
   "execution_count": 5,
   "metadata": {},
   "outputs": [
    {
     "data": {
      "text/plain": [
       "'val1'"
      ]
     },
     "execution_count": 5,
     "metadata": {},
     "output_type": "execute_result"
    }
   ],
   "source": [
    "d2.key1"
   ]
  },
  {
   "cell_type": "code",
   "execution_count": 12,
   "metadata": {},
   "outputs": [
    {
     "data": {
      "text/plain": [
       "box.config_box.ConfigBox"
      ]
     },
     "execution_count": 12,
     "metadata": {},
     "output_type": "execute_result"
    }
   ],
   "source": [
    "type(d2)"
   ]
  },
  {
   "cell_type": "code",
   "execution_count": 13,
   "metadata": {},
   "outputs": [],
   "source": [
    "def oblig(*, x):\n",
    "    return x * x"
   ]
  },
  {
   "cell_type": "code",
   "execution_count": 14,
   "metadata": {},
   "outputs": [
    {
     "data": {
      "text/plain": [
       "16"
      ]
     },
     "execution_count": 14,
     "metadata": {},
     "output_type": "execute_result"
    }
   ],
   "source": [
    "\n",
    "oblig(x=4)"
   ]
  },
  {
   "cell_type": "code",
   "execution_count": 15,
   "metadata": {},
   "outputs": [
    {
     "ename": "TypeError",
     "evalue": "oblig() takes 0 positional arguments but 1 was given",
     "output_type": "error",
     "traceback": [
      "\u001b[0;31m---------------------------------------------------------------------------\u001b[0m",
      "\u001b[0;31mTypeError\u001b[0m                                 Traceback (most recent call last)",
      "\u001b[1;32m/Users/romainbarraud/Desktop/devops/Complete-End-to-End-Deep-Learning-Project-With-MLFLOW-DVC-And-Deployment/kidney-classif-mlflow-dvc/research/trials.ipynb Cell 9\u001b[0m line \u001b[0;36m1\n\u001b[0;32m----> <a href='vscode-notebook-cell:/Users/romainbarraud/Desktop/devops/Complete-End-to-End-Deep-Learning-Project-With-MLFLOW-DVC-And-Deployment/kidney-classif-mlflow-dvc/research/trials.ipynb#X11sZmlsZQ%3D%3D?line=0'>1</a>\u001b[0m oblig(\u001b[39m4\u001b[39;49m)\n",
      "\u001b[0;31mTypeError\u001b[0m: oblig() takes 0 positional arguments but 1 was given"
     ]
    }
   ],
   "source": [
    "oblig(4)"
   ]
  },
  {
   "cell_type": "code",
   "execution_count": 19,
   "metadata": {},
   "outputs": [],
   "source": [
    "d3 = Box({\"key\": \"val\", \"key1\": \"val1\"})"
   ]
  },
  {
   "cell_type": "code",
   "execution_count": 20,
   "metadata": {},
   "outputs": [
    {
     "data": {
      "text/plain": [
       "'val'"
      ]
     },
     "execution_count": 20,
     "metadata": {},
     "output_type": "execute_result"
    }
   ],
   "source": [
    "d3.key"
   ]
  },
  {
   "cell_type": "code",
   "execution_count": 1,
   "metadata": {},
   "outputs": [],
   "source": [
    "data_url = \"https://drive.google.com/file/d/1dTM7B0jPlFXxTj7t3P4oXSketZK61p0P/view?usp=drive_link\""
   ]
  },
  {
   "cell_type": "code",
   "execution_count": 2,
   "metadata": {},
   "outputs": [],
   "source": [
    "import gdown"
   ]
  },
  {
   "cell_type": "code",
   "execution_count": 3,
   "metadata": {},
   "outputs": [
    {
     "data": {
      "text/plain": [
       "'1dTM7B0jPlFXxTj7t3P4oXSketZK61p0P'"
      ]
     },
     "execution_count": 3,
     "metadata": {},
     "output_type": "execute_result"
    }
   ],
   "source": [
    "file_id = data_url.split(\"/\")[-2]\n",
    "file_id"
   ]
  },
  {
   "cell_type": "code",
   "execution_count": 4,
   "metadata": {},
   "outputs": [
    {
     "name": "stderr",
     "output_type": "stream",
     "text": [
      "Downloading...\n",
      "From (uriginal): https://drive.google.com/uc?/export=download&id=1dTM7B0jPlFXxTj7t3P4oXSketZK61p0P\n",
      "From (redirected): https://drive.google.com/uc?/export=download&id=1dTM7B0jPlFXxTj7t3P4oXSketZK61p0P&confirm=t&uuid=3ade840f-0e77-41b6-a5eb-445b96317ab8\n",
      "To: /Users/romainbarraud/Desktop/devops/Complete-End-to-End-Deep-Learning-Project-With-MLFLOW-DVC-And-Deployment/kidney-classif-mlflow-dvc/research/kidney-ct-scan-image.zip\n",
      "100%|██████████| 62.5M/62.5M [00:18<00:00, 3.39MB/s]\n"
     ]
    },
    {
     "data": {
      "text/plain": [
       "'kidney-ct-scan-image.zip'"
      ]
     },
     "execution_count": 4,
     "metadata": {},
     "output_type": "execute_result"
    }
   ],
   "source": [
    "prefix = 'https://drive.google.com/uc?/export=download&id='\n",
    "gdown.download(prefix+file_id, \"kidney-ct-scan-image.zip\")"
   ]
  },
  {
   "cell_type": "code",
   "execution_count": 6,
   "metadata": {},
   "outputs": [],
   "source": [
    "data_url=\"https://drive.google.com/file/d/1vlhZ5c7abUKF8xXERIw6m9Te8fW7ohw3/view?usp=sharing\""
   ]
  },
  {
   "cell_type": "code",
   "execution_count": 7,
   "metadata": {},
   "outputs": [
    {
     "data": {
      "text/plain": [
       "'1vlhZ5c7abUKF8xXERIw6m9Te8fW7ohw3'"
      ]
     },
     "execution_count": 7,
     "metadata": {},
     "output_type": "execute_result"
    }
   ],
   "source": [
    "file_id = data_url.split(\"/\")[-2]\n",
    "file_id"
   ]
  },
  {
   "cell_type": "code",
   "execution_count": 8,
   "metadata": {},
   "outputs": [
    {
     "name": "stderr",
     "output_type": "stream",
     "text": [
      "Downloading...\n",
      "From (uriginal): https://drive.google.com/uc?/export=download&id=1vlhZ5c7abUKF8xXERIw6m9Te8fW7ohw3\n",
      "From (redirected): https://drive.google.com/uc?/export=download&id=1vlhZ5c7abUKF8xXERIw6m9Te8fW7ohw3&confirm=t&uuid=5d485af3-b344-4959-a598-8ec2b3cae9bd\n",
      "To: /Users/romainbarraud/Desktop/devops/Complete-End-to-End-Deep-Learning-Project-With-MLFLOW-DVC-And-Deployment/kidney-classif-mlflow-dvc/research/kidney-ct-scan-image.zip\n",
      "100%|██████████| 57.7M/57.7M [00:18<00:00, 3.07MB/s]\n"
     ]
    },
    {
     "data": {
      "text/plain": [
       "'kidney-ct-scan-image.zip'"
      ]
     },
     "execution_count": 8,
     "metadata": {},
     "output_type": "execute_result"
    }
   ],
   "source": [
    "prefix = 'https://drive.google.com/uc?/export=download&id='\n",
    "gdown.download(prefix+file_id, \"kidney-ct-scan-image.zip\")"
   ]
  },
  {
   "cell_type": "code",
   "execution_count": null,
   "metadata": {},
   "outputs": [],
   "source": []
  }
 ],
 "metadata": {
  "kernelspec": {
   "display_name": "cnncls",
   "language": "python",
   "name": "python3"
  },
  "language_info": {
   "codemirror_mode": {
    "name": "ipython",
    "version": 3
   },
   "file_extension": ".py",
   "mimetype": "text/x-python",
   "name": "python",
   "nbconvert_exporter": "python",
   "pygments_lexer": "ipython3",
   "version": "3.8.18"
  }
 },
 "nbformat": 4,
 "nbformat_minor": 2
}
